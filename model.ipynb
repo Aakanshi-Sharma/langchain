{
 "cells": [
  {
   "cell_type": "code",
   "execution_count": 7,
   "id": "5d482b9c",
   "metadata": {},
   "outputs": [],
   "source": [
    "f=open(\"key.txt\", \"r\")\n",
    "HUGGINGFACEHUB_API_TOKEN=f.readlines()[0]\n",
    "import os\n",
    "os.environ['HUGGINGFACE_API_TOKEN']=HUGGINGFACEHUB_API_TOKEN"
   ]
  },
  {
   "cell_type": "code",
   "execution_count": 8,
   "id": "a9d2f706",
   "metadata": {},
   "outputs": [],
   "source": [
    "from langchain import PromptTemplate, HuggingFaceHub, LLMChain "
   ]
  },
  {
   "cell_type": "code",
   "execution_count": 9,
   "id": "a6a37736",
   "metadata": {},
   "outputs": [],
   "source": [
    "template=\"\"\"Question : {question}\n",
    "Answer: Let's think step by step\"\"\"\n",
    "\n",
    "prompt= PromptTemplate(template=template, input_variables=[\"question\"])"
   ]
  },
  {
   "cell_type": "code",
   "execution_count": 10,
   "id": "7b1d495c",
   "metadata": {},
   "outputs": [],
   "source": [
    "llm_chain=LLMChain(prompt=prompt, llm=HuggingFaceHub(repo_id = \"google/flan-t5-xxl\" ,model_kwargs={\"temperature\":0.1} ))"
   ]
  },
  {
   "cell_type": "code",
   "execution_count": 11,
   "id": "67f4a7b9",
   "metadata": {},
   "outputs": [
    {
     "name": "stdout",
     "output_type": "stream",
     "text": [
      "The continents on earth are: Africa, Asia, Australia, Antarctica, North America, South\n"
     ]
    }
   ],
   "source": [
    "question =\"List the continents on earth\"\n",
    "print(llm_chain.run(question))"
   ]
  },
  {
   "cell_type": "code",
   "execution_count": null,
   "id": "5ff5288e",
   "metadata": {},
   "outputs": [],
   "source": []
  }
 ],
 "metadata": {
  "kernelspec": {
   "display_name": "Python 3 (ipykernel)",
   "language": "python",
   "name": "python3"
  },
  "language_info": {
   "codemirror_mode": {
    "name": "ipython",
    "version": 3
   },
   "file_extension": ".py",
   "mimetype": "text/x-python",
   "name": "python",
   "nbconvert_exporter": "python",
   "pygments_lexer": "ipython3",
   "version": "3.10.5"
  }
 },
 "nbformat": 4,
 "nbformat_minor": 5
}
