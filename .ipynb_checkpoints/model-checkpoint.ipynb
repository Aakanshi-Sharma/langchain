{
 "cells": [
  {
   "cell_type": "code",
   "execution_count": 1,
   "id": "5d482b9c",
   "metadata": {},
   "outputs": [],
   "source": [
    "f=open(\"key.txt\", \"r\")\n",
    "openai_api_key=f.readlines()[0]\n",
    "import os\n",
    "os.environ['OPENAI_API_KEY']=openai_api_key"
   ]
  },
  {
   "cell_type": "code",
   "execution_count": null,
   "id": "a9d2f706",
   "metadata": {},
   "outputs": [],
   "source": []
  }
 ],
 "metadata": {
  "kernelspec": {
   "display_name": "Python 3 (ipykernel)",
   "language": "python",
   "name": "python3"
  },
  "language_info": {
   "codemirror_mode": {
    "name": "ipython",
    "version": 3
   },
   "file_extension": ".py",
   "mimetype": "text/x-python",
   "name": "python",
   "nbconvert_exporter": "python",
   "pygments_lexer": "ipython3",
   "version": "3.10.5"
  }
 },
 "nbformat": 4,
 "nbformat_minor": 5
}
